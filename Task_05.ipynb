{
 "cells": [
  {
   "cell_type": "markdown",
   "id": "36a36850",
   "metadata": {},
   "source": [
    "# GRIP:-The Spark Foundation"
   ]
  },
  {
   "cell_type": "markdown",
   "id": "45e4e295",
   "metadata": {},
   "source": [
    "# Project_Task_05"
   ]
  },
  {
   "cell_type": "markdown",
   "id": "414b080d",
   "metadata": {},
   "source": [
    "# Aurthor:-Sandeep Khandelwal"
   ]
  },
  {
   "cell_type": "markdown",
   "id": "071ff312",
   "metadata": {},
   "source": [
    "# Exploratory Data Analysis - Sports"
   ]
  },
  {
   "cell_type": "code",
   "execution_count": 1,
   "id": "f8b19b23",
   "metadata": {},
   "outputs": [],
   "source": [
    "#importing important libraries\n",
    "import numpy as np\n",
    "import pandas as pd\n",
    "import matplotlib.pyplot as plt\n",
    "import seaborn as sns\n",
    "\n",
    "import warnings\n",
    "warnings.filterwarnings('ignore')"
   ]
  },
  {
   "cell_type": "code",
   "execution_count": 2,
   "id": "38a88b5d",
   "metadata": {},
   "outputs": [
    {
     "data": {
      "text/html": [
       "<div>\n",
       "<style scoped>\n",
       "    .dataframe tbody tr th:only-of-type {\n",
       "        vertical-align: middle;\n",
       "    }\n",
       "\n",
       "    .dataframe tbody tr th {\n",
       "        vertical-align: top;\n",
       "    }\n",
       "\n",
       "    .dataframe thead th {\n",
       "        text-align: right;\n",
       "    }\n",
       "</style>\n",
       "<table border=\"1\" class=\"dataframe\">\n",
       "  <thead>\n",
       "    <tr style=\"text-align: right;\">\n",
       "      <th></th>\n",
       "      <th>id</th>\n",
       "      <th>season</th>\n",
       "      <th>city</th>\n",
       "      <th>date</th>\n",
       "      <th>team1</th>\n",
       "      <th>team2</th>\n",
       "      <th>toss_winner</th>\n",
       "      <th>toss_decision</th>\n",
       "      <th>result</th>\n",
       "      <th>dl_applied</th>\n",
       "      <th>winner</th>\n",
       "      <th>win_by_runs</th>\n",
       "      <th>win_by_wickets</th>\n",
       "      <th>player_of_match</th>\n",
       "      <th>venue</th>\n",
       "      <th>umpire1</th>\n",
       "      <th>umpire2</th>\n",
       "      <th>umpire3</th>\n",
       "    </tr>\n",
       "  </thead>\n",
       "  <tbody>\n",
       "    <tr>\n",
       "      <th>0</th>\n",
       "      <td>1</td>\n",
       "      <td>2017</td>\n",
       "      <td>Hyderabad</td>\n",
       "      <td>2017-04-05</td>\n",
       "      <td>Sunrisers Hyderabad</td>\n",
       "      <td>Royal Challengers Bangalore</td>\n",
       "      <td>Royal Challengers Bangalore</td>\n",
       "      <td>field</td>\n",
       "      <td>normal</td>\n",
       "      <td>0</td>\n",
       "      <td>Sunrisers Hyderabad</td>\n",
       "      <td>35</td>\n",
       "      <td>0</td>\n",
       "      <td>Yuvraj Singh</td>\n",
       "      <td>Rajiv Gandhi International Stadium, Uppal</td>\n",
       "      <td>AY Dandekar</td>\n",
       "      <td>NJ Llong</td>\n",
       "      <td>NaN</td>\n",
       "    </tr>\n",
       "    <tr>\n",
       "      <th>1</th>\n",
       "      <td>2</td>\n",
       "      <td>2017</td>\n",
       "      <td>Pune</td>\n",
       "      <td>2017-04-06</td>\n",
       "      <td>Mumbai Indians</td>\n",
       "      <td>Rising Pune Supergiant</td>\n",
       "      <td>Rising Pune Supergiant</td>\n",
       "      <td>field</td>\n",
       "      <td>normal</td>\n",
       "      <td>0</td>\n",
       "      <td>Rising Pune Supergiant</td>\n",
       "      <td>0</td>\n",
       "      <td>7</td>\n",
       "      <td>SPD Smith</td>\n",
       "      <td>Maharashtra Cricket Association Stadium</td>\n",
       "      <td>A Nand Kishore</td>\n",
       "      <td>S Ravi</td>\n",
       "      <td>NaN</td>\n",
       "    </tr>\n",
       "    <tr>\n",
       "      <th>2</th>\n",
       "      <td>3</td>\n",
       "      <td>2017</td>\n",
       "      <td>Rajkot</td>\n",
       "      <td>2017-04-07</td>\n",
       "      <td>Gujarat Lions</td>\n",
       "      <td>Kolkata Knight Riders</td>\n",
       "      <td>Kolkata Knight Riders</td>\n",
       "      <td>field</td>\n",
       "      <td>normal</td>\n",
       "      <td>0</td>\n",
       "      <td>Kolkata Knight Riders</td>\n",
       "      <td>0</td>\n",
       "      <td>10</td>\n",
       "      <td>CA Lynn</td>\n",
       "      <td>Saurashtra Cricket Association Stadium</td>\n",
       "      <td>Nitin Menon</td>\n",
       "      <td>CK Nandan</td>\n",
       "      <td>NaN</td>\n",
       "    </tr>\n",
       "    <tr>\n",
       "      <th>3</th>\n",
       "      <td>4</td>\n",
       "      <td>2017</td>\n",
       "      <td>Indore</td>\n",
       "      <td>2017-04-08</td>\n",
       "      <td>Rising Pune Supergiant</td>\n",
       "      <td>Kings XI Punjab</td>\n",
       "      <td>Kings XI Punjab</td>\n",
       "      <td>field</td>\n",
       "      <td>normal</td>\n",
       "      <td>0</td>\n",
       "      <td>Kings XI Punjab</td>\n",
       "      <td>0</td>\n",
       "      <td>6</td>\n",
       "      <td>GJ Maxwell</td>\n",
       "      <td>Holkar Cricket Stadium</td>\n",
       "      <td>AK Chaudhary</td>\n",
       "      <td>C Shamshuddin</td>\n",
       "      <td>NaN</td>\n",
       "    </tr>\n",
       "    <tr>\n",
       "      <th>4</th>\n",
       "      <td>5</td>\n",
       "      <td>2017</td>\n",
       "      <td>Bangalore</td>\n",
       "      <td>2017-04-08</td>\n",
       "      <td>Royal Challengers Bangalore</td>\n",
       "      <td>Delhi Daredevils</td>\n",
       "      <td>Royal Challengers Bangalore</td>\n",
       "      <td>bat</td>\n",
       "      <td>normal</td>\n",
       "      <td>0</td>\n",
       "      <td>Royal Challengers Bangalore</td>\n",
       "      <td>15</td>\n",
       "      <td>0</td>\n",
       "      <td>KM Jadhav</td>\n",
       "      <td>M Chinnaswamy Stadium</td>\n",
       "      <td>NaN</td>\n",
       "      <td>NaN</td>\n",
       "      <td>NaN</td>\n",
       "    </tr>\n",
       "  </tbody>\n",
       "</table>\n",
       "</div>"
      ],
      "text/plain": [
       "   id  season       city        date                        team1  \\\n",
       "0   1    2017  Hyderabad  2017-04-05          Sunrisers Hyderabad   \n",
       "1   2    2017       Pune  2017-04-06               Mumbai Indians   \n",
       "2   3    2017     Rajkot  2017-04-07                Gujarat Lions   \n",
       "3   4    2017     Indore  2017-04-08       Rising Pune Supergiant   \n",
       "4   5    2017  Bangalore  2017-04-08  Royal Challengers Bangalore   \n",
       "\n",
       "                         team2                  toss_winner toss_decision  \\\n",
       "0  Royal Challengers Bangalore  Royal Challengers Bangalore         field   \n",
       "1       Rising Pune Supergiant       Rising Pune Supergiant         field   \n",
       "2        Kolkata Knight Riders        Kolkata Knight Riders         field   \n",
       "3              Kings XI Punjab              Kings XI Punjab         field   \n",
       "4             Delhi Daredevils  Royal Challengers Bangalore           bat   \n",
       "\n",
       "   result  dl_applied                       winner  win_by_runs  \\\n",
       "0  normal           0          Sunrisers Hyderabad           35   \n",
       "1  normal           0       Rising Pune Supergiant            0   \n",
       "2  normal           0        Kolkata Knight Riders            0   \n",
       "3  normal           0              Kings XI Punjab            0   \n",
       "4  normal           0  Royal Challengers Bangalore           15   \n",
       "\n",
       "   win_by_wickets player_of_match                                      venue  \\\n",
       "0               0    Yuvraj Singh  Rajiv Gandhi International Stadium, Uppal   \n",
       "1               7       SPD Smith    Maharashtra Cricket Association Stadium   \n",
       "2              10         CA Lynn     Saurashtra Cricket Association Stadium   \n",
       "3               6      GJ Maxwell                     Holkar Cricket Stadium   \n",
       "4               0       KM Jadhav                      M Chinnaswamy Stadium   \n",
       "\n",
       "          umpire1        umpire2 umpire3  \n",
       "0     AY Dandekar       NJ Llong     NaN  \n",
       "1  A Nand Kishore         S Ravi     NaN  \n",
       "2     Nitin Menon      CK Nandan     NaN  \n",
       "3    AK Chaudhary  C Shamshuddin     NaN  \n",
       "4             NaN            NaN     NaN  "
      ]
     },
     "execution_count": 2,
     "metadata": {},
     "output_type": "execute_result"
    }
   ],
   "source": [
    "#loading the dataset for Matches\n",
    "df=pd.read_csv('matches.csv')\n",
    "df.head()"
   ]
  },
  {
   "cell_type": "code",
   "execution_count": 3,
   "id": "73f2d039",
   "metadata": {},
   "outputs": [
    {
     "data": {
      "text/html": [
       "<div>\n",
       "<style scoped>\n",
       "    .dataframe tbody tr th:only-of-type {\n",
       "        vertical-align: middle;\n",
       "    }\n",
       "\n",
       "    .dataframe tbody tr th {\n",
       "        vertical-align: top;\n",
       "    }\n",
       "\n",
       "    .dataframe thead th {\n",
       "        text-align: right;\n",
       "    }\n",
       "</style>\n",
       "<table border=\"1\" class=\"dataframe\">\n",
       "  <thead>\n",
       "    <tr style=\"text-align: right;\">\n",
       "      <th></th>\n",
       "      <th>match_id</th>\n",
       "      <th>inning</th>\n",
       "      <th>batting_team</th>\n",
       "      <th>bowling_team</th>\n",
       "      <th>over</th>\n",
       "      <th>ball</th>\n",
       "      <th>batsman</th>\n",
       "      <th>non_striker</th>\n",
       "      <th>bowler</th>\n",
       "      <th>is_super_over</th>\n",
       "      <th>...</th>\n",
       "      <th>bye_runs</th>\n",
       "      <th>legbye_runs</th>\n",
       "      <th>noball_runs</th>\n",
       "      <th>penalty_runs</th>\n",
       "      <th>batsman_runs</th>\n",
       "      <th>extra_runs</th>\n",
       "      <th>total_runs</th>\n",
       "      <th>player_dismissed</th>\n",
       "      <th>dismissal_kind</th>\n",
       "      <th>fielder</th>\n",
       "    </tr>\n",
       "  </thead>\n",
       "  <tbody>\n",
       "    <tr>\n",
       "      <th>0</th>\n",
       "      <td>1</td>\n",
       "      <td>1</td>\n",
       "      <td>Sunrisers Hyderabad</td>\n",
       "      <td>Royal Challengers Bangalore</td>\n",
       "      <td>1</td>\n",
       "      <td>1</td>\n",
       "      <td>DA Warner</td>\n",
       "      <td>S Dhawan</td>\n",
       "      <td>TS Mills</td>\n",
       "      <td>0</td>\n",
       "      <td>...</td>\n",
       "      <td>0</td>\n",
       "      <td>0</td>\n",
       "      <td>0</td>\n",
       "      <td>0</td>\n",
       "      <td>0</td>\n",
       "      <td>0</td>\n",
       "      <td>0</td>\n",
       "      <td>NaN</td>\n",
       "      <td>NaN</td>\n",
       "      <td>NaN</td>\n",
       "    </tr>\n",
       "    <tr>\n",
       "      <th>1</th>\n",
       "      <td>1</td>\n",
       "      <td>1</td>\n",
       "      <td>Sunrisers Hyderabad</td>\n",
       "      <td>Royal Challengers Bangalore</td>\n",
       "      <td>1</td>\n",
       "      <td>2</td>\n",
       "      <td>DA Warner</td>\n",
       "      <td>S Dhawan</td>\n",
       "      <td>TS Mills</td>\n",
       "      <td>0</td>\n",
       "      <td>...</td>\n",
       "      <td>0</td>\n",
       "      <td>0</td>\n",
       "      <td>0</td>\n",
       "      <td>0</td>\n",
       "      <td>0</td>\n",
       "      <td>0</td>\n",
       "      <td>0</td>\n",
       "      <td>NaN</td>\n",
       "      <td>NaN</td>\n",
       "      <td>NaN</td>\n",
       "    </tr>\n",
       "    <tr>\n",
       "      <th>2</th>\n",
       "      <td>1</td>\n",
       "      <td>1</td>\n",
       "      <td>Sunrisers Hyderabad</td>\n",
       "      <td>Royal Challengers Bangalore</td>\n",
       "      <td>1</td>\n",
       "      <td>3</td>\n",
       "      <td>DA Warner</td>\n",
       "      <td>S Dhawan</td>\n",
       "      <td>TS Mills</td>\n",
       "      <td>0</td>\n",
       "      <td>...</td>\n",
       "      <td>0</td>\n",
       "      <td>0</td>\n",
       "      <td>0</td>\n",
       "      <td>0</td>\n",
       "      <td>4</td>\n",
       "      <td>0</td>\n",
       "      <td>4</td>\n",
       "      <td>NaN</td>\n",
       "      <td>NaN</td>\n",
       "      <td>NaN</td>\n",
       "    </tr>\n",
       "    <tr>\n",
       "      <th>3</th>\n",
       "      <td>1</td>\n",
       "      <td>1</td>\n",
       "      <td>Sunrisers Hyderabad</td>\n",
       "      <td>Royal Challengers Bangalore</td>\n",
       "      <td>1</td>\n",
       "      <td>4</td>\n",
       "      <td>DA Warner</td>\n",
       "      <td>S Dhawan</td>\n",
       "      <td>TS Mills</td>\n",
       "      <td>0</td>\n",
       "      <td>...</td>\n",
       "      <td>0</td>\n",
       "      <td>0</td>\n",
       "      <td>0</td>\n",
       "      <td>0</td>\n",
       "      <td>0</td>\n",
       "      <td>0</td>\n",
       "      <td>0</td>\n",
       "      <td>NaN</td>\n",
       "      <td>NaN</td>\n",
       "      <td>NaN</td>\n",
       "    </tr>\n",
       "    <tr>\n",
       "      <th>4</th>\n",
       "      <td>1</td>\n",
       "      <td>1</td>\n",
       "      <td>Sunrisers Hyderabad</td>\n",
       "      <td>Royal Challengers Bangalore</td>\n",
       "      <td>1</td>\n",
       "      <td>5</td>\n",
       "      <td>DA Warner</td>\n",
       "      <td>S Dhawan</td>\n",
       "      <td>TS Mills</td>\n",
       "      <td>0</td>\n",
       "      <td>...</td>\n",
       "      <td>0</td>\n",
       "      <td>0</td>\n",
       "      <td>0</td>\n",
       "      <td>0</td>\n",
       "      <td>0</td>\n",
       "      <td>2</td>\n",
       "      <td>2</td>\n",
       "      <td>NaN</td>\n",
       "      <td>NaN</td>\n",
       "      <td>NaN</td>\n",
       "    </tr>\n",
       "  </tbody>\n",
       "</table>\n",
       "<p>5 rows × 21 columns</p>\n",
       "</div>"
      ],
      "text/plain": [
       "   match_id  inning         batting_team                 bowling_team  over  \\\n",
       "0         1       1  Sunrisers Hyderabad  Royal Challengers Bangalore     1   \n",
       "1         1       1  Sunrisers Hyderabad  Royal Challengers Bangalore     1   \n",
       "2         1       1  Sunrisers Hyderabad  Royal Challengers Bangalore     1   \n",
       "3         1       1  Sunrisers Hyderabad  Royal Challengers Bangalore     1   \n",
       "4         1       1  Sunrisers Hyderabad  Royal Challengers Bangalore     1   \n",
       "\n",
       "   ball    batsman non_striker    bowler  is_super_over  ...  bye_runs  \\\n",
       "0     1  DA Warner    S Dhawan  TS Mills              0  ...         0   \n",
       "1     2  DA Warner    S Dhawan  TS Mills              0  ...         0   \n",
       "2     3  DA Warner    S Dhawan  TS Mills              0  ...         0   \n",
       "3     4  DA Warner    S Dhawan  TS Mills              0  ...         0   \n",
       "4     5  DA Warner    S Dhawan  TS Mills              0  ...         0   \n",
       "\n",
       "   legbye_runs  noball_runs  penalty_runs  batsman_runs  extra_runs  \\\n",
       "0            0            0             0             0           0   \n",
       "1            0            0             0             0           0   \n",
       "2            0            0             0             4           0   \n",
       "3            0            0             0             0           0   \n",
       "4            0            0             0             0           2   \n",
       "\n",
       "   total_runs  player_dismissed dismissal_kind fielder  \n",
       "0           0               NaN            NaN     NaN  \n",
       "1           0               NaN            NaN     NaN  \n",
       "2           4               NaN            NaN     NaN  \n",
       "3           0               NaN            NaN     NaN  \n",
       "4           2               NaN            NaN     NaN  \n",
       "\n",
       "[5 rows x 21 columns]"
      ]
     },
     "execution_count": 3,
     "metadata": {},
     "output_type": "execute_result"
    }
   ],
   "source": [
    "#loading the dataset for Deliveries\n",
    "df1=pd.read_csv('deliveries.csv')\n",
    "df1.head()"
   ]
  },
  {
   "cell_type": "code",
   "execution_count": 4,
   "id": "5eedc504",
   "metadata": {},
   "outputs": [
    {
     "name": "stdout",
     "output_type": "stream",
     "text": [
      "Shape of Matches: (756, 18)\n",
      "Shape of Deliveries: (179078, 21)\n"
     ]
    }
   ],
   "source": [
    "#checking the shape \n",
    "\n",
    "print('Shape of Matches:',df.shape)\n",
    "print('Shape of Deliveries:',df1.shape)"
   ]
  },
  {
   "cell_type": "code",
   "execution_count": 5,
   "id": "d84b0021",
   "metadata": {},
   "outputs": [
    {
     "name": "stdout",
     "output_type": "stream",
     "text": [
      "Dimension of Matches: 2\n",
      "Dimension of Deliveries: 2\n"
     ]
    }
   ],
   "source": [
    "#checking the Demensions\n",
    "\n",
    "print('Dimension of Matches:',df.ndim)\n",
    "print('Dimension of Deliveries:',df1.ndim)"
   ]
  },
  {
   "cell_type": "code",
   "execution_count": 6,
   "id": "231499fe",
   "metadata": {},
   "outputs": [
    {
     "name": "stdout",
     "output_type": "stream",
     "text": [
      "No of Columns in Matches: Index(['id', 'season', 'city', 'date', 'team1', 'team2', 'toss_winner',\n",
      "       'toss_decision', 'result', 'dl_applied', 'winner', 'win_by_runs',\n",
      "       'win_by_wickets', 'player_of_match', 'venue', 'umpire1', 'umpire2',\n",
      "       'umpire3'],\n",
      "      dtype='object')\n",
      "No of Columns in Deliveries Index(['match_id', 'inning', 'batting_team', 'bowling_team', 'over', 'ball',\n",
      "       'batsman', 'non_striker', 'bowler', 'is_super_over', 'wide_runs',\n",
      "       'bye_runs', 'legbye_runs', 'noball_runs', 'penalty_runs',\n",
      "       'batsman_runs', 'extra_runs', 'total_runs', 'player_dismissed',\n",
      "       'dismissal_kind', 'fielder'],\n",
      "      dtype='object')\n"
     ]
    }
   ],
   "source": [
    "# Checking the Number of columns\n",
    "\n",
    "print(\"No of Columns in Matches:\",df.columns)\n",
    "print(\"No of Columns in Deliveries\",df1.columns)"
   ]
  },
  {
   "cell_type": "markdown",
   "id": "c7debe19",
   "metadata": {},
   "source": [
    "### Inference :- Both the dataset have one come column as ID & Match-ID,so we can combine based on common column."
   ]
  },
  {
   "cell_type": "code",
   "execution_count": 7,
   "id": "4e3e0cb4",
   "metadata": {},
   "outputs": [
    {
     "name": "stdout",
     "output_type": "stream",
     "text": [
      "Missing or Null values in Matches: id                   0\n",
      "season               0\n",
      "city                 7\n",
      "date                 0\n",
      "team1                0\n",
      "team2                0\n",
      "toss_winner          0\n",
      "toss_decision        0\n",
      "result               0\n",
      "dl_applied           0\n",
      "winner               4\n",
      "win_by_runs          0\n",
      "win_by_wickets       0\n",
      "player_of_match      4\n",
      "venue                0\n",
      "umpire1              2\n",
      "umpire2              2\n",
      "umpire3            637\n",
      "dtype: int64\n"
     ]
    }
   ],
   "source": [
    "print('Missing or Null values in Matches:',df.isna().sum())"
   ]
  },
  {
   "cell_type": "markdown",
   "id": "d1d9386f",
   "metadata": {},
   "source": [
    "### Inferance:--There some columns have missing or null values and we need to drop it."
   ]
  },
  {
   "cell_type": "code",
   "execution_count": 8,
   "id": "b2ae205c",
   "metadata": {},
   "outputs": [
    {
     "name": "stdout",
     "output_type": "stream",
     "text": [
      "id                 0\n",
      "season             0\n",
      "city               0\n",
      "date               0\n",
      "team1              0\n",
      "team2              0\n",
      "toss_winner        0\n",
      "toss_decision      0\n",
      "result             0\n",
      "dl_applied         0\n",
      "winner             0\n",
      "win_by_runs        0\n",
      "win_by_wickets     0\n",
      "player_of_match    0\n",
      "venue              0\n",
      "umpire1            0\n",
      "umpire2            0\n",
      "umpire3            0\n",
      "dtype: int64\n"
     ]
    }
   ],
   "source": [
    "#After Droping the missing or na values from Matches\n",
    "df=df.dropna()\n",
    "print(df.isna().sum())"
   ]
  },
  {
   "cell_type": "code",
   "execution_count": 9,
   "id": "c307a984",
   "metadata": {},
   "outputs": [
    {
     "name": "stdout",
     "output_type": "stream",
     "text": [
      "Missing or Null values in Deliveries: match_id                 0\n",
      "inning                   0\n",
      "batting_team             0\n",
      "bowling_team             0\n",
      "over                     0\n",
      "ball                     0\n",
      "batsman                  0\n",
      "non_striker              0\n",
      "bowler                   0\n",
      "is_super_over            0\n",
      "wide_runs                0\n",
      "bye_runs                 0\n",
      "legbye_runs              0\n",
      "noball_runs              0\n",
      "penalty_runs             0\n",
      "batsman_runs             0\n",
      "extra_runs               0\n",
      "total_runs               0\n",
      "player_dismissed    170244\n",
      "dismissal_kind      170244\n",
      "fielder             172630\n",
      "dtype: int64\n"
     ]
    }
   ],
   "source": [
    "print('Missing or Null values in Deliveries:',df1.isna().sum())"
   ]
  },
  {
   "cell_type": "markdown",
   "id": "4b9fff3c",
   "metadata": {},
   "source": [
    "### Inferance:--There some columns have missing or null values and we need to drop it."
   ]
  },
  {
   "cell_type": "code",
   "execution_count": 10,
   "id": "322babd6",
   "metadata": {},
   "outputs": [
    {
     "name": "stdout",
     "output_type": "stream",
     "text": [
      "match_id            0\n",
      "inning              0\n",
      "batting_team        0\n",
      "bowling_team        0\n",
      "over                0\n",
      "ball                0\n",
      "batsman             0\n",
      "non_striker         0\n",
      "bowler              0\n",
      "is_super_over       0\n",
      "wide_runs           0\n",
      "bye_runs            0\n",
      "legbye_runs         0\n",
      "noball_runs         0\n",
      "penalty_runs        0\n",
      "batsman_runs        0\n",
      "extra_runs          0\n",
      "total_runs          0\n",
      "player_dismissed    0\n",
      "dismissal_kind      0\n",
      "fielder             0\n",
      "dtype: int64\n"
     ]
    }
   ],
   "source": [
    "#After Droping the missing or na values from Delieries\n",
    "df1=df1.dropna()\n",
    "print(df1.isna().sum())"
   ]
  },
  {
   "cell_type": "code",
   "execution_count": 11,
   "id": "03cbe8d2",
   "metadata": {},
   "outputs": [
    {
     "name": "stdout",
     "output_type": "stream",
     "text": [
      "Unique Values in Matches: 457\n",
      "Unique Values in Deliveries: 3000\n"
     ]
    }
   ],
   "source": [
    "# Checking the Unique Values\n",
    "print(\"Unique Values in Matches:\",df.nunique().sum())\n",
    "print(\"Unique Values in Deliveries:\",df1.nunique().sum())"
   ]
  },
  {
   "cell_type": "markdown",
   "id": "b14f84e4",
   "metadata": {},
   "source": [
    "# Data Preprocessing"
   ]
  },
  {
   "cell_type": "code",
   "execution_count": 12,
   "id": "381371a5",
   "metadata": {},
   "outputs": [
    {
     "name": "stdout",
     "output_type": "stream",
     "text": [
      "<class 'pandas.core.frame.DataFrame'>\n",
      "Int64Index: 118 entries, 636 to 755\n",
      "Data columns (total 18 columns):\n",
      " #   Column           Non-Null Count  Dtype \n",
      "---  ------           --------------  ----- \n",
      " 0   id               118 non-null    int64 \n",
      " 1   season           118 non-null    int64 \n",
      " 2   city             118 non-null    object\n",
      " 3   date             118 non-null    object\n",
      " 4   team1            118 non-null    object\n",
      " 5   team2            118 non-null    object\n",
      " 6   toss_winner      118 non-null    object\n",
      " 7   toss_decision    118 non-null    object\n",
      " 8   result           118 non-null    object\n",
      " 9   dl_applied       118 non-null    int64 \n",
      " 10  winner           118 non-null    object\n",
      " 11  win_by_runs      118 non-null    int64 \n",
      " 12  win_by_wickets   118 non-null    int64 \n",
      " 13  player_of_match  118 non-null    object\n",
      " 14  venue            118 non-null    object\n",
      " 15  umpire1          118 non-null    object\n",
      " 16  umpire2          118 non-null    object\n",
      " 17  umpire3          118 non-null    object\n",
      "dtypes: int64(5), object(13)\n",
      "memory usage: 17.5+ KB\n"
     ]
    }
   ],
   "source": [
    "df.info()"
   ]
  },
  {
   "cell_type": "code",
   "execution_count": 13,
   "id": "b71a5332",
   "metadata": {},
   "outputs": [
    {
     "data": {
      "text/html": [
       "<div>\n",
       "<style scoped>\n",
       "    .dataframe tbody tr th:only-of-type {\n",
       "        vertical-align: middle;\n",
       "    }\n",
       "\n",
       "    .dataframe tbody tr th {\n",
       "        vertical-align: top;\n",
       "    }\n",
       "\n",
       "    .dataframe thead th {\n",
       "        text-align: right;\n",
       "    }\n",
       "</style>\n",
       "<table border=\"1\" class=\"dataframe\">\n",
       "  <thead>\n",
       "    <tr style=\"text-align: right;\">\n",
       "      <th></th>\n",
       "      <th>id</th>\n",
       "      <th>season</th>\n",
       "      <th>dl_applied</th>\n",
       "      <th>win_by_runs</th>\n",
       "      <th>win_by_wickets</th>\n",
       "    </tr>\n",
       "  </thead>\n",
       "  <tbody>\n",
       "    <tr>\n",
       "      <th>count</th>\n",
       "      <td>118.000000</td>\n",
       "      <td>118.000000</td>\n",
       "      <td>118.000000</td>\n",
       "      <td>118.000000</td>\n",
       "      <td>118.000000</td>\n",
       "    </tr>\n",
       "    <tr>\n",
       "      <th>mean</th>\n",
       "      <td>9572.610169</td>\n",
       "      <td>2018.491525</td>\n",
       "      <td>0.025424</td>\n",
       "      <td>11.355932</td>\n",
       "      <td>3.271186</td>\n",
       "    </tr>\n",
       "    <tr>\n",
       "      <th>std</th>\n",
       "      <td>1685.654201</td>\n",
       "      <td>0.502060</td>\n",
       "      <td>0.158080</td>\n",
       "      <td>21.090981</td>\n",
       "      <td>3.233534</td>\n",
       "    </tr>\n",
       "    <tr>\n",
       "      <th>min</th>\n",
       "      <td>7894.000000</td>\n",
       "      <td>2018.000000</td>\n",
       "      <td>0.000000</td>\n",
       "      <td>0.000000</td>\n",
       "      <td>0.000000</td>\n",
       "    </tr>\n",
       "    <tr>\n",
       "      <th>25%</th>\n",
       "      <td>7923.250000</td>\n",
       "      <td>2018.000000</td>\n",
       "      <td>0.000000</td>\n",
       "      <td>0.000000</td>\n",
       "      <td>0.000000</td>\n",
       "    </tr>\n",
       "    <tr>\n",
       "      <th>50%</th>\n",
       "      <td>7952.500000</td>\n",
       "      <td>2018.000000</td>\n",
       "      <td>0.000000</td>\n",
       "      <td>0.000000</td>\n",
       "      <td>4.000000</td>\n",
       "    </tr>\n",
       "    <tr>\n",
       "      <th>75%</th>\n",
       "      <td>11319.750000</td>\n",
       "      <td>2019.000000</td>\n",
       "      <td>0.000000</td>\n",
       "      <td>14.000000</td>\n",
       "      <td>6.000000</td>\n",
       "    </tr>\n",
       "    <tr>\n",
       "      <th>max</th>\n",
       "      <td>11415.000000</td>\n",
       "      <td>2019.000000</td>\n",
       "      <td>1.000000</td>\n",
       "      <td>118.000000</td>\n",
       "      <td>10.000000</td>\n",
       "    </tr>\n",
       "  </tbody>\n",
       "</table>\n",
       "</div>"
      ],
      "text/plain": [
       "                 id       season  dl_applied  win_by_runs  win_by_wickets\n",
       "count    118.000000   118.000000  118.000000   118.000000      118.000000\n",
       "mean    9572.610169  2018.491525    0.025424    11.355932        3.271186\n",
       "std     1685.654201     0.502060    0.158080    21.090981        3.233534\n",
       "min     7894.000000  2018.000000    0.000000     0.000000        0.000000\n",
       "25%     7923.250000  2018.000000    0.000000     0.000000        0.000000\n",
       "50%     7952.500000  2018.000000    0.000000     0.000000        4.000000\n",
       "75%    11319.750000  2019.000000    0.000000    14.000000        6.000000\n",
       "max    11415.000000  2019.000000    1.000000   118.000000       10.000000"
      ]
     },
     "execution_count": 13,
     "metadata": {},
     "output_type": "execute_result"
    }
   ],
   "source": [
    "df.describe()"
   ]
  },
  {
   "cell_type": "code",
   "execution_count": 14,
   "id": "1f89f6a2",
   "metadata": {},
   "outputs": [
    {
     "name": "stdout",
     "output_type": "stream",
     "text": [
      "<class 'pandas.core.frame.DataFrame'>\n",
      "Int64Index: 6448 entries, 11 to 179075\n",
      "Data columns (total 21 columns):\n",
      " #   Column            Non-Null Count  Dtype \n",
      "---  ------            --------------  ----- \n",
      " 0   match_id          6448 non-null   int64 \n",
      " 1   inning            6448 non-null   int64 \n",
      " 2   batting_team      6448 non-null   object\n",
      " 3   bowling_team      6448 non-null   object\n",
      " 4   over              6448 non-null   int64 \n",
      " 5   ball              6448 non-null   int64 \n",
      " 6   batsman           6448 non-null   object\n",
      " 7   non_striker       6448 non-null   object\n",
      " 8   bowler            6448 non-null   object\n",
      " 9   is_super_over     6448 non-null   int64 \n",
      " 10  wide_runs         6448 non-null   int64 \n",
      " 11  bye_runs          6448 non-null   int64 \n",
      " 12  legbye_runs       6448 non-null   int64 \n",
      " 13  noball_runs       6448 non-null   int64 \n",
      " 14  penalty_runs      6448 non-null   int64 \n",
      " 15  batsman_runs      6448 non-null   int64 \n",
      " 16  extra_runs        6448 non-null   int64 \n",
      " 17  total_runs        6448 non-null   int64 \n",
      " 18  player_dismissed  6448 non-null   object\n",
      " 19  dismissal_kind    6448 non-null   object\n",
      " 20  fielder           6448 non-null   object\n",
      "dtypes: int64(13), object(8)\n",
      "memory usage: 1.1+ MB\n"
     ]
    }
   ],
   "source": [
    "df1.info()"
   ]
  },
  {
   "cell_type": "code",
   "execution_count": 15,
   "id": "2f300538",
   "metadata": {},
   "outputs": [
    {
     "data": {
      "text/html": [
       "<div>\n",
       "<style scoped>\n",
       "    .dataframe tbody tr th:only-of-type {\n",
       "        vertical-align: middle;\n",
       "    }\n",
       "\n",
       "    .dataframe tbody tr th {\n",
       "        vertical-align: top;\n",
       "    }\n",
       "\n",
       "    .dataframe thead th {\n",
       "        text-align: right;\n",
       "    }\n",
       "</style>\n",
       "<table border=\"1\" class=\"dataframe\">\n",
       "  <thead>\n",
       "    <tr style=\"text-align: right;\">\n",
       "      <th></th>\n",
       "      <th>match_id</th>\n",
       "      <th>inning</th>\n",
       "      <th>over</th>\n",
       "      <th>ball</th>\n",
       "      <th>is_super_over</th>\n",
       "      <th>wide_runs</th>\n",
       "      <th>bye_runs</th>\n",
       "      <th>legbye_runs</th>\n",
       "      <th>noball_runs</th>\n",
       "      <th>penalty_runs</th>\n",
       "      <th>batsman_runs</th>\n",
       "      <th>extra_runs</th>\n",
       "      <th>total_runs</th>\n",
       "    </tr>\n",
       "  </thead>\n",
       "  <tbody>\n",
       "    <tr>\n",
       "      <th>count</th>\n",
       "      <td>6448.000000</td>\n",
       "      <td>6448.000000</td>\n",
       "      <td>6448.000000</td>\n",
       "      <td>6448.000000</td>\n",
       "      <td>6448.000000</td>\n",
       "      <td>6448.000000</td>\n",
       "      <td>6448.0</td>\n",
       "      <td>6448.00000</td>\n",
       "      <td>6448.000000</td>\n",
       "      <td>6448.0</td>\n",
       "      <td>6448.000000</td>\n",
       "      <td>6448.000000</td>\n",
       "      <td>6448.000000</td>\n",
       "    </tr>\n",
       "    <tr>\n",
       "      <th>mean</th>\n",
       "      <td>1865.613834</td>\n",
       "      <td>1.473635</td>\n",
       "      <td>12.175713</td>\n",
       "      <td>3.640199</td>\n",
       "      <td>0.001241</td>\n",
       "      <td>0.004498</td>\n",
       "      <td>0.0</td>\n",
       "      <td>0.00031</td>\n",
       "      <td>0.000465</td>\n",
       "      <td>0.0</td>\n",
       "      <td>0.045906</td>\n",
       "      <td>0.005273</td>\n",
       "      <td>0.051179</td>\n",
       "    </tr>\n",
       "    <tr>\n",
       "      <th>std</th>\n",
       "      <td>3527.570149</td>\n",
       "      <td>0.503057</td>\n",
       "      <td>5.981590</td>\n",
       "      <td>1.788285</td>\n",
       "      <td>0.035204</td>\n",
       "      <td>0.066918</td>\n",
       "      <td>0.0</td>\n",
       "      <td>0.01761</td>\n",
       "      <td>0.021567</td>\n",
       "      <td>0.0</td>\n",
       "      <td>0.218719</td>\n",
       "      <td>0.072429</td>\n",
       "      <td>0.230695</td>\n",
       "    </tr>\n",
       "    <tr>\n",
       "      <th>min</th>\n",
       "      <td>1.000000</td>\n",
       "      <td>1.000000</td>\n",
       "      <td>1.000000</td>\n",
       "      <td>1.000000</td>\n",
       "      <td>0.000000</td>\n",
       "      <td>0.000000</td>\n",
       "      <td>0.0</td>\n",
       "      <td>0.00000</td>\n",
       "      <td>0.000000</td>\n",
       "      <td>0.0</td>\n",
       "      <td>0.000000</td>\n",
       "      <td>0.000000</td>\n",
       "      <td>0.000000</td>\n",
       "    </tr>\n",
       "    <tr>\n",
       "      <th>25%</th>\n",
       "      <td>186.000000</td>\n",
       "      <td>1.000000</td>\n",
       "      <td>7.000000</td>\n",
       "      <td>2.000000</td>\n",
       "      <td>0.000000</td>\n",
       "      <td>0.000000</td>\n",
       "      <td>0.0</td>\n",
       "      <td>0.00000</td>\n",
       "      <td>0.000000</td>\n",
       "      <td>0.0</td>\n",
       "      <td>0.000000</td>\n",
       "      <td>0.000000</td>\n",
       "      <td>0.000000</td>\n",
       "    </tr>\n",
       "    <tr>\n",
       "      <th>50%</th>\n",
       "      <td>380.000000</td>\n",
       "      <td>1.000000</td>\n",
       "      <td>13.000000</td>\n",
       "      <td>4.000000</td>\n",
       "      <td>0.000000</td>\n",
       "      <td>0.000000</td>\n",
       "      <td>0.0</td>\n",
       "      <td>0.00000</td>\n",
       "      <td>0.000000</td>\n",
       "      <td>0.0</td>\n",
       "      <td>0.000000</td>\n",
       "      <td>0.000000</td>\n",
       "      <td>0.000000</td>\n",
       "    </tr>\n",
       "    <tr>\n",
       "      <th>75%</th>\n",
       "      <td>573.000000</td>\n",
       "      <td>2.000000</td>\n",
       "      <td>18.000000</td>\n",
       "      <td>5.000000</td>\n",
       "      <td>0.000000</td>\n",
       "      <td>0.000000</td>\n",
       "      <td>0.0</td>\n",
       "      <td>0.00000</td>\n",
       "      <td>0.000000</td>\n",
       "      <td>0.0</td>\n",
       "      <td>0.000000</td>\n",
       "      <td>0.000000</td>\n",
       "      <td>0.000000</td>\n",
       "    </tr>\n",
       "    <tr>\n",
       "      <th>max</th>\n",
       "      <td>11415.000000</td>\n",
       "      <td>4.000000</td>\n",
       "      <td>20.000000</td>\n",
       "      <td>9.000000</td>\n",
       "      <td>1.000000</td>\n",
       "      <td>1.000000</td>\n",
       "      <td>0.0</td>\n",
       "      <td>1.00000</td>\n",
       "      <td>1.000000</td>\n",
       "      <td>0.0</td>\n",
       "      <td>2.000000</td>\n",
       "      <td>1.000000</td>\n",
       "      <td>2.000000</td>\n",
       "    </tr>\n",
       "  </tbody>\n",
       "</table>\n",
       "</div>"
      ],
      "text/plain": [
       "           match_id       inning         over         ball  is_super_over  \\\n",
       "count   6448.000000  6448.000000  6448.000000  6448.000000    6448.000000   \n",
       "mean    1865.613834     1.473635    12.175713     3.640199       0.001241   \n",
       "std     3527.570149     0.503057     5.981590     1.788285       0.035204   \n",
       "min        1.000000     1.000000     1.000000     1.000000       0.000000   \n",
       "25%      186.000000     1.000000     7.000000     2.000000       0.000000   \n",
       "50%      380.000000     1.000000    13.000000     4.000000       0.000000   \n",
       "75%      573.000000     2.000000    18.000000     5.000000       0.000000   \n",
       "max    11415.000000     4.000000    20.000000     9.000000       1.000000   \n",
       "\n",
       "         wide_runs  bye_runs  legbye_runs  noball_runs  penalty_runs  \\\n",
       "count  6448.000000    6448.0   6448.00000  6448.000000        6448.0   \n",
       "mean      0.004498       0.0      0.00031     0.000465           0.0   \n",
       "std       0.066918       0.0      0.01761     0.021567           0.0   \n",
       "min       0.000000       0.0      0.00000     0.000000           0.0   \n",
       "25%       0.000000       0.0      0.00000     0.000000           0.0   \n",
       "50%       0.000000       0.0      0.00000     0.000000           0.0   \n",
       "75%       0.000000       0.0      0.00000     0.000000           0.0   \n",
       "max       1.000000       0.0      1.00000     1.000000           0.0   \n",
       "\n",
       "       batsman_runs   extra_runs   total_runs  \n",
       "count   6448.000000  6448.000000  6448.000000  \n",
       "mean       0.045906     0.005273     0.051179  \n",
       "std        0.218719     0.072429     0.230695  \n",
       "min        0.000000     0.000000     0.000000  \n",
       "25%        0.000000     0.000000     0.000000  \n",
       "50%        0.000000     0.000000     0.000000  \n",
       "75%        0.000000     0.000000     0.000000  \n",
       "max        2.000000     1.000000     2.000000  "
      ]
     },
     "execution_count": 15,
     "metadata": {},
     "output_type": "execute_result"
    }
   ],
   "source": [
    "df1.describe()"
   ]
  },
  {
   "cell_type": "markdown",
   "id": "67c2a756",
   "metadata": {},
   "source": [
    "# Data Visulzation"
   ]
  },
  {
   "cell_type": "code",
   "execution_count": 16,
   "id": "70940973",
   "metadata": {},
   "outputs": [
    {
     "data": {
      "text/plain": [
       "<AxesSubplot:xlabel='season', ylabel='count'>"
      ]
     },
     "execution_count": 16,
     "metadata": {},
     "output_type": "execute_result"
    },
    {
     "data": {
      "image/png": "[encoded data removed]",
      "text/plain": [
       "<Figure size 432x288 with 1 Axes>"
      ]
     },
     "metadata": {
      "needs_background": "light"
     },
     "output_type": "display_data"
    }
   ],
   "source": [
    "sns.countplot('season',data=df)"
   ]
  },
  {
   "cell_type": "markdown",
   "id": "3118d922",
   "metadata": {},
   "source": [
    "### Inferance:-- Number of Seasons in IPL & 2018 had maximum matches played"
   ]
  },
  {
   "cell_type": "code",
   "execution_count": 17,
   "id": "acf91439",
   "metadata": {},
   "outputs": [
    {
     "data": {
      "image/png": "[encoded data removed]",
      "text/plain": [
       "<Figure size 1080x360 with 1 Axes>"
      ]
     },
     "metadata": {
      "needs_background": "light"
     },
     "output_type": "display_data"
    }
   ],
   "source": [
    "plt.figure(figsize=(15,5))\n",
    "sns.countplot('winner',data=df)\n",
    "plt.xticks(rotation=90)\n",
    "plt.show()"
   ]
  },
  {
   "cell_type": "markdown",
   "id": "9519b16e",
   "metadata": {},
   "source": [
    "### Inferance:--Chennai Super Kings Win maximum matches in IPL"
   ]
  },
  {
   "cell_type": "code",
   "execution_count": 18,
   "id": "3defcf55",
   "metadata": {},
   "outputs": [
    {
     "data": {
      "text/plain": [
       "<AxesSubplot:xlabel='result', ylabel='count'>"
      ]
     },
     "execution_count": 18,
     "metadata": {},
     "output_type": "execute_result"
    },
    {
     "data": {
      "image/png": "[encoded data removed]",
      "text/plain": [
       "<Figure size 432x288 with 1 Axes>"
      ]
     },
     "metadata": {
      "needs_background": "light"
     },
     "output_type": "display_data"
    }
   ],
   "source": [
    "sns.countplot('result',data=df)"
   ]
  },
  {
   "cell_type": "markdown",
   "id": "1058fda7",
   "metadata": {},
   "source": [
    "### Inferance:--Most of the matches have results either 'WIN' or 'LOSS'"
   ]
  },
  {
   "cell_type": "code",
   "execution_count": 19,
   "id": "2ade9761",
   "metadata": {},
   "outputs": [
    {
     "data": {
      "image/png": "[encoded data removed]",
      "text/plain": [
       "<Figure size 1440x360 with 1 Axes>"
      ]
     },
     "metadata": {
      "needs_background": "light"
     },
     "output_type": "display_data"
    }
   ],
   "source": [
    "plt.figure(figsize=(20,5))\n",
    "sns.countplot('venue',data=df)\n",
    "plt.xticks(rotation=90)\n",
    "plt.show()"
   ]
  },
  {
   "cell_type": "markdown",
   "id": "fa90a265",
   "metadata": {},
   "source": [
    "## Inferance:-Most of the matches happened in \"Wankhade Stadium\" & \"Eden Garden\"."
   ]
  },
  {
   "cell_type": "code",
   "execution_count": 20,
   "id": "b92c2e76",
   "metadata": {},
   "outputs": [
    {
     "data": {
      "image/png": "[encoded data removed]",
      "text/plain": [
       "<Figure size 1440x360 with 1 Axes>"
      ]
     },
     "metadata": {
      "needs_background": "light"
     },
     "output_type": "display_data"
    }
   ],
   "source": [
    "plt.figure(figsize=(20,5))\n",
    "sns.countplot('city',data=df)\n",
    "plt.xticks(rotation=90)\n",
    "plt.show()"
   ]
  },
  {
   "cell_type": "markdown",
   "id": "95450f48",
   "metadata": {},
   "source": [
    "## Inferance:--Most of the matches are happened in \"Mumbai\" & \"Kolkata\""
   ]
  },
  {
   "cell_type": "code",
   "execution_count": 21,
   "id": "32680088",
   "metadata": {},
   "outputs": [
    {
     "data": {
      "text/html": [
       "<div>\n",
       "<style scoped>\n",
       "    .dataframe tbody tr th:only-of-type {\n",
       "        vertical-align: middle;\n",
       "    }\n",
       "\n",
       "    .dataframe tbody tr th {\n",
       "        vertical-align: top;\n",
       "    }\n",
       "\n",
       "    .dataframe thead th {\n",
       "        text-align: right;\n",
       "    }\n",
       "</style>\n",
       "<table border=\"1\" class=\"dataframe\">\n",
       "  <thead>\n",
       "    <tr style=\"text-align: right;\">\n",
       "      <th></th>\n",
       "      <th></th>\n",
       "      <th>season</th>\n",
       "    </tr>\n",
       "    <tr>\n",
       "      <th>city</th>\n",
       "      <th>venue</th>\n",
       "      <th></th>\n",
       "    </tr>\n",
       "  </thead>\n",
       "  <tbody>\n",
       "    <tr>\n",
       "      <th>Kolkata</th>\n",
       "      <th>Eden Gardens</th>\n",
       "      <td>16</td>\n",
       "    </tr>\n",
       "    <tr>\n",
       "      <th>Mumbai</th>\n",
       "      <th>Wankhede Stadium</th>\n",
       "      <td>16</td>\n",
       "    </tr>\n",
       "    <tr>\n",
       "      <th>Jaipur</th>\n",
       "      <th>Sawai Mansingh Stadium</th>\n",
       "      <td>14</td>\n",
       "    </tr>\n",
       "    <tr>\n",
       "      <th>Chennai</th>\n",
       "      <th>M. A. Chidambaram Stadium</th>\n",
       "      <td>8</td>\n",
       "    </tr>\n",
       "    <tr>\n",
       "      <th>Hyderabad</th>\n",
       "      <th>Rajiv Gandhi Intl. Cricket Stadium</th>\n",
       "      <td>8</td>\n",
       "    </tr>\n",
       "    <tr>\n",
       "      <th>Bengaluru</th>\n",
       "      <th>M Chinnaswamy Stadium</th>\n",
       "      <td>7</td>\n",
       "    </tr>\n",
       "    <tr>\n",
       "      <th rowspan=\"2\" valign=\"top\">Delhi</th>\n",
       "      <th>Feroz Shah Kotla</th>\n",
       "      <td>7</td>\n",
       "    </tr>\n",
       "    <tr>\n",
       "      <th>Feroz Shah Kotla Ground</th>\n",
       "      <td>7</td>\n",
       "    </tr>\n",
       "    <tr>\n",
       "      <th>Hyderabad</th>\n",
       "      <th>Rajiv Gandhi International Stadium, Uppal</th>\n",
       "      <td>7</td>\n",
       "    </tr>\n",
       "    <tr>\n",
       "      <th>Mohali</th>\n",
       "      <th>IS Bindra Stadium</th>\n",
       "      <td>7</td>\n",
       "    </tr>\n",
       "    <tr>\n",
       "      <th>Bengaluru</th>\n",
       "      <th>M. Chinnaswamy Stadium</th>\n",
       "      <td>6</td>\n",
       "    </tr>\n",
       "    <tr>\n",
       "      <th>Pune</th>\n",
       "      <th>Maharashtra Cricket Association Stadium</th>\n",
       "      <td>6</td>\n",
       "    </tr>\n",
       "    <tr>\n",
       "      <th>Indore</th>\n",
       "      <th>Holkar Cricket Stadium</th>\n",
       "      <td>4</td>\n",
       "    </tr>\n",
       "    <tr>\n",
       "      <th>Mohali</th>\n",
       "      <th>Punjab Cricket Association IS Bindra Stadium, Mohali</th>\n",
       "      <td>3</td>\n",
       "    </tr>\n",
       "    <tr>\n",
       "      <th>Chennai</th>\n",
       "      <th>MA Chidambaram Stadium, Chepauk</th>\n",
       "      <td>1</td>\n",
       "    </tr>\n",
       "    <tr>\n",
       "      <th>Visakhapatnam</th>\n",
       "      <th>ACA-VDCA Stadium</th>\n",
       "      <td>1</td>\n",
       "    </tr>\n",
       "  </tbody>\n",
       "</table>\n",
       "</div>"
      ],
      "text/plain": [
       "                                                                  season\n",
       "city          venue                                                     \n",
       "Kolkata       Eden Gardens                                            16\n",
       "Mumbai        Wankhede Stadium                                        16\n",
       "Jaipur        Sawai Mansingh Stadium                                  14\n",
       "Chennai       M. A. Chidambaram Stadium                                8\n",
       "Hyderabad     Rajiv Gandhi Intl. Cricket Stadium                       8\n",
       "Bengaluru     M Chinnaswamy Stadium                                    7\n",
       "Delhi         Feroz Shah Kotla                                         7\n",
       "              Feroz Shah Kotla Ground                                  7\n",
       "Hyderabad     Rajiv Gandhi International Stadium, Uppal                7\n",
       "Mohali        IS Bindra Stadium                                        7\n",
       "Bengaluru     M. Chinnaswamy Stadium                                   6\n",
       "Pune          Maharashtra Cricket Association Stadium                  6\n",
       "Indore        Holkar Cricket Stadium                                   4\n",
       "Mohali        Punjab Cricket Association IS Bindra Stadium, M...       3\n",
       "Chennai       MA Chidambaram Stadium, Chepauk                          1\n",
       "Visakhapatnam ACA-VDCA Stadium                                         1"
      ]
     },
     "execution_count": 21,
     "metadata": {},
     "output_type": "execute_result"
    }
   ],
   "source": [
    "Venue=df.groupby(['city','venue']).count()['season']\n",
    "Venue=pd.DataFrame(Venue).sort_values(by='season',ascending=False)\n",
    "Venue"
   ]
  },
  {
   "cell_type": "markdown",
   "id": "2f09913c",
   "metadata": {},
   "source": [
    "### Inferance:- Cities & Venues where the MAtches has been played"
   ]
  },
  {
   "cell_type": "code",
   "execution_count": 22,
   "id": "e99660ba",
   "metadata": {},
   "outputs": [
    {
     "data": {
      "image/png": "[encoded data removed]",
      "text/plain": [
       "<Figure size 1080x360 with 1 Axes>"
      ]
     },
     "metadata": {
      "needs_background": "light"
     },
     "output_type": "display_data"
    }
   ],
   "source": [
    "plt.figure(figsize=(15,5))\n",
    "Scores=df1['batsman'].value_counts().reset_index()\n",
    "Scores.columns=['batsman','batsman_runs']\n",
    "sns.barplot(x='batsman',y='batsman_runs',data=Scores[:10])\n",
    "plt.xticks(rotation=90)\n",
    "plt.show()"
   ]
  },
  {
   "cell_type": "markdown",
   "id": "e574a5b7",
   "metadata": {},
   "source": [
    "## Inferance:--Maximun run are scored by \"SK Raina\" in IPL"
   ]
  },
  {
   "cell_type": "code",
   "execution_count": 23,
   "id": "d5abd382",
   "metadata": {},
   "outputs": [
    {
     "data": {
      "text/plain": [
       "<AxesSubplot:xlabel='season', ylabel='count'>"
      ]
     },
     "execution_count": 23,
     "metadata": {},
     "output_type": "execute_result"
    },
    {
     "data": {
      "image/png": "[encoded data removed]",
      "text/plain": [
       "<Figure size 720x1080 with 1 Axes>"
      ]
     },
     "metadata": {
      "needs_background": "light"
     },
     "output_type": "display_data"
    }
   ],
   "source": [
    "plt.figure(figsize=(10,15))\n",
    "sns.countplot('season',hue='toss_winner',data=df)"
   ]
  },
  {
   "cell_type": "markdown",
   "id": "7d7e77ce",
   "metadata": {},
   "source": [
    "## Inferance:-In 2018 & 2019 'Chennai Super Kings' won the most of the Toss"
   ]
  },
  {
   "cell_type": "code",
   "execution_count": 24,
   "id": "4835348d",
   "metadata": {},
   "outputs": [
    {
     "data": {
      "text/plain": [
       "<AxesSubplot:xlabel='season', ylabel='count'>"
      ]
     },
     "execution_count": 24,
     "metadata": {},
     "output_type": "execute_result"
    },
    {
     "data": {
      "image/png": "[encoded data removed]",
      "text/plain": [
       "<Figure size 720x360 with 1 Axes>"
      ]
     },
     "metadata": {
      "needs_background": "light"
     },
     "output_type": "display_data"
    }
   ],
   "source": [
    "plt.figure(figsize=(10,5))\n",
    "sns.countplot('season',hue='toss_decision',data=df)"
   ]
  },
  {
   "cell_type": "markdown",
   "id": "e7b2941c",
   "metadata": {},
   "source": [
    "## Inferance:--Most of the Time team who wins the toss took the decision of Fielding"
   ]
  },
  {
   "cell_type": "code",
   "execution_count": 25,
   "id": "65ef1346",
   "metadata": {},
   "outputs": [
    {
     "data": {
      "text/plain": [
       "<AxesSubplot:xlabel='season', ylabel='count'>"
      ]
     },
     "execution_count": 25,
     "metadata": {},
     "output_type": "execute_result"
    },
    {
     "data": {
      "image/png": "[encoded data removed]",
      "text/plain": [
       "<Figure size 720x576 with 1 Axes>"
      ]
     },
     "metadata": {
      "needs_background": "light"
     },
     "output_type": "display_data"
    }
   ],
   "source": [
    "plt.figure(figsize=(10,8))\n",
    "sns.countplot('season',hue='winner',data=df)"
   ]
  },
  {
   "cell_type": "markdown",
   "id": "8bd97ecf",
   "metadata": {},
   "source": [
    "### Inferance:--In 2018 Winners were \"Chennai Super Kings\" & In 2019 \"Mumbai Indians\" were Winners."
   ]
  },
  {
   "cell_type": "code",
   "execution_count": 26,
   "id": "d857f285",
   "metadata": {},
   "outputs": [
    {
     "data": {
      "image/png": "[encoded data removed]",
      "text/plain": [
       "<Figure size 1080x360 with 1 Axes>"
      ]
     },
     "metadata": {
      "needs_background": "light"
     },
     "output_type": "display_data"
    }
   ],
   "source": [
    "plt.figure(figsize=(15,5))\n",
    "fav=df['winner'].value_counts().reset_index()\n",
    "fav.columns=['winner','count']\n",
    "sns.barplot('winner','count',data=fav[:10])\n",
    "plt.xticks(rotation=90)\n",
    "plt.show()"
   ]
  },
  {
   "cell_type": "markdown",
   "id": "719165b8",
   "metadata": {},
   "source": [
    "## Inferance:--\"Chennai Super Kings\" has higest number of Wins in IPL"
   ]
  },
  {
   "cell_type": "markdown",
   "id": "bac62bd8",
   "metadata": {},
   "source": [
    "# Conclusion:"
   ]
  },
  {
   "cell_type": "markdown",
   "id": "e45b6725",
   "metadata": {},
   "source": [
    "## Chennai Super King is the most successfull team in IPL"
   ]
  },
  {
   "cell_type": "markdown",
   "id": "ba6fa58f",
   "metadata": {},
   "source": [
    "## Chennai Super Kings & Mumbai Indain are the best and strong team in season"
   ]
  },
  {
   "cell_type": "markdown",
   "id": "ca293170",
   "metadata": {},
   "source": [
    "## Chennai Super Kings have won the toss most of the time as compared to otehrs teams."
   ]
  },
  {
   "cell_type": "code",
   "execution_count": null,
   "id": "e3d51408",
   "metadata": {},
   "outputs": [],
   "source": []
  }
 ],
 "metadata": {
  "kernelspec": {
   "display_name": "Python 3",
   "language": "python",
   "name": "python3"
  },
  "language_info": {
   "codemirror_mode": {
    "name": "ipython",
    "version": 3
   },
   "file_extension": ".py",
   "mimetype": "text/x-python",
   "name": "python",
   "nbconvert_exporter": "python",
   "pygments_lexer": "ipython3",
   "version": "3.8.5"
  }
 },
 "nbformat": 4,
 "nbformat_minor": 5
}
